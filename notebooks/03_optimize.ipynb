{
 "cells": [
  {
   "cell_type": "code",
   "id": "990d47e7922d5be5",
   "metadata": {
    "collapsed": true,
    "ExecuteTime": {
     "end_time": "2024-11-14T20:43:40.673199Z",
     "start_time": "2024-11-14T20:43:40.669392Z"
    }
   },
   "source": [
    "import pandas as pd\n",
    "import pyomo.environ as pyo\n",
    "from omlt import OmltBlock\n",
    "from omlt.neuralnet import ReluBigMFormulation\n",
    "from omlt.io import load_keras_sequential\n",
    "import tensorflow\n",
    "import pandas as pd\n",
    "import pickle"
   ],
   "outputs": [],
   "execution_count": 50
  },
  {
   "metadata": {
    "ExecuteTime": {
     "end_time": "2024-11-14T20:43:40.688435Z",
     "start_time": "2024-11-14T20:43:40.674723Z"
    }
   },
   "cell_type": "code",
   "source": [
    "dict_scalers = pickle.load(open(\"scalers.pkl\", \"rb\"))\n",
    "x_offset = dict_scalers[\"x_offset\"]\n",
    "x_factor = dict_scalers[\"x_factor\"]\n",
    "y_offset = dict_scalers[\"y_offset\"]\n",
    "y_factor = dict_scalers[\"y_factor\"]\n",
    "scaled_lb = dict_scalers[\"scaled_lb\"]\n",
    "scaled_ub = dict_scalers[\"scaled_ub\"]\n",
    "inputs = [\"x\", \"y\"]\n",
    "outputs = [\"f1\", \"f2\"]"
   ],
   "id": "2cd3b588292134e9",
   "outputs": [],
   "execution_count": 51
  },
  {
   "metadata": {
    "ExecuteTime": {
     "end_time": "2024-11-14T20:46:05.295842Z",
     "start_time": "2024-11-14T20:46:05.105551Z"
    }
   },
   "cell_type": "code",
   "source": [
    "from omlt.neuralnet import FullSpaceSmoothNNFormulation\n",
    "from omlt import OffsetScaling\n",
    "\n",
    "scaler = OffsetScaling(\n",
    "    offset_inputs={i: x_offset[inputs[i]] for i in range(len(inputs))},\n",
    "    factor_inputs={i: x_factor[inputs[i]] for i in range(len(inputs))},\n",
    "    offset_outputs={i: y_offset[outputs[i]] for i in range(len(outputs))},\n",
    "    factor_outputs={i: y_factor[outputs[i]] for i in range(len(outputs))},\n",
    ")\n",
    "\n",
    "scaled_input_bounds = {i: (scaled_lb[i], scaled_ub[i]) for i in range(len(inputs))}\n",
    "\n",
    "# Supposons que le modèle Keras soit déjà formé et défini comme 'model'\n",
    "\n",
    "# 1. Charger le modèle Keras dans un format compatible avec OMLT\n",
    "data = pd.read_parquet(\"../data/data.parquet\")\n",
    "X = data[['x', 'y']]\n",
    "y = data[['f1', 'f2']]\n",
    "nn = tensorflow.keras.models.load_model(\"plane_nn_relu.keras\", compile=False)\n",
    "net = load_keras_sequential(nn,\n",
    "                            scaling_object=scaler, scaled_input_bounds=scaled_input_bounds)\n",
    "#unscaled_input_bounds={0: (0, X['x'].max()), 1: (0, X['y'].max())})\n",
    "# 2. Définir le modèle Pyomo pour l'optimisation\n",
    "pyomo_model = pyo.ConcreteModel()\n",
    "\n",
    "# Ajouter un bloc OMLT pour intégrer le réseau de neurones\n",
    "pyomo_model.neural_network = OmltBlock()\n",
    "#formulation = ReluBigMFormulation(net)\n",
    "formulation = FullSpaceSmoothNNFormulation(net)\n",
    "pyomo_model.neural_network.build_formulation(formulation)\n",
    "\n",
    "f1 = pyomo_model.neural_network.outputs[0]\n",
    "f2 = pyomo_model.neural_network.outputs[1]\n",
    "\n",
    "# 3. Formuler l'objectif de maximisation de f1 - f2\n",
    "pyomo_model.objective = pyo.Objective(expr=f2 - f1, sense=pyo.maximize)\n",
    "pyomo_model.con_x = pyo.Constraint(expr=pyomo_model.neural_network.inputs[0] >= 0)\n",
    "#pyomo_model.con_x_sup = pyo.Constraint(expr=pyomo_model.neural_network.inputs[0] <= 2)\n",
    "\n",
    "pyomo_model.con_y = pyo.Constraint(expr=pyomo_model.neural_network.inputs[1] >= 0)\n",
    "\n",
    "# 4. Résoudre le problème\n",
    "solver = pyo.SolverFactory(\"ipopt\")\n",
    "status = solver.solve(pyomo_model, tee=False)\n",
    "\n",
    "# 5. Afficher les résultats optimaux\n",
    "optimal_x = pyo.value(pyomo_model.neural_network.inputs[0])\n",
    "optimal_y = pyo.value(pyomo_model.neural_network.inputs[1])\n",
    "optimal_f1 = pyo.value(f1)\n",
    "optimal_f2 = pyo.value(f2)\n",
    "optimal_value = optimal_f2 + optimal_f1\n",
    "\n",
    "print(f'Valeurs optimales : x = {optimal_x}, y = {optimal_y}')\n",
    "print(f'f1 = {optimal_f1}, f2 = {optimal_f2}')\n",
    "print(f'Valeur de f1 - f2 maximale : {optimal_value}')\n"
   ],
   "id": "initial_id",
   "outputs": [
    {
     "name": "stdout",
     "output_type": "stream",
     "text": [
      "Valeurs optimales : x = 2.5649608761183784, y = 3.6816727828970146\n",
      "f1 = 0.7804700618054868, f2 = 1.5834438569762697\n",
      "Valeur de f1 - f2 maximale : 2.3639139187817566\n"
     ]
    }
   ],
   "execution_count": 56
  },
  {
   "metadata": {
    "ExecuteTime": {
     "end_time": "2024-11-14T20:50:43.324908Z",
     "start_time": "2024-11-14T20:50:43.292727Z"
    }
   },
   "cell_type": "code",
   "source": [
    "x = optimal_x\n",
    "y = optimal_y\n",
    "x_scaled = (x - x_offset[\"x\"])/(x_factor[\"x\"])\n",
    "y_scaled = (y - x_offset[\"y\"])/(x_factor[\"y\"])\n",
    "res = nn.predict(pd.DataFrame([{\"x\": x_scaled, \"y\": y_scaled}]))\n",
    "res[0][0] * y_factor[\"f1\"] + y_offset[\"f1\"]\n",
    "res[0][1] * y_factor[\"f2\"] + y_offset[\"f2\"]"
   ],
   "id": "d8facab4edaf75f9",
   "outputs": [
    {
     "name": "stdout",
     "output_type": "stream",
     "text": [
      "\u001B[1m1/1\u001B[0m \u001B[32m━━━━━━━━━━━━━━━━━━━━\u001B[0m\u001B[37m\u001B[0m \u001B[1m0s\u001B[0m 9ms/step\n"
     ]
    },
    {
     "data": {
      "text/plain": [
       "1.5834438808520335"
      ]
     },
     "execution_count": 72,
     "metadata": {},
     "output_type": "execute_result"
    }
   ],
   "execution_count": 72
  },
  {
   "metadata": {
    "ExecuteTime": {
     "end_time": "2024-11-14T20:49:16.976163Z",
     "start_time": "2024-11-14T20:49:16.973322Z"
    }
   },
   "cell_type": "code",
   "source": "y_scaled",
   "id": "f3f91a1c43435d06",
   "outputs": [
    {
     "data": {
      "text/plain": [
       "0.06005884521227968"
      ]
     },
     "execution_count": 69,
     "metadata": {},
     "output_type": "execute_result"
    }
   ],
   "execution_count": 69
  },
  {
   "metadata": {},
   "cell_type": "code",
   "outputs": [],
   "execution_count": null,
   "source": "",
   "id": "1480866581b62e9e"
  }
 ],
 "metadata": {
  "kernelspec": {
   "display_name": "Python 3",
   "language": "python",
   "name": "python3"
  },
  "language_info": {
   "codemirror_mode": {
    "name": "ipython",
    "version": 2
   },
   "file_extension": ".py",
   "mimetype": "text/x-python",
   "name": "python",
   "nbconvert_exporter": "python",
   "pygments_lexer": "ipython2",
   "version": "2.7.6"
  }
 },
 "nbformat": 4,
 "nbformat_minor": 5
}
