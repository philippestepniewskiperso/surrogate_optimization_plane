{
 "cells": [
  {
   "cell_type": "code",
   "id": "990d47e7922d5be5",
   "metadata": {
    "collapsed": true,
    "ExecuteTime": {
     "end_time": "2024-11-20T19:41:10.088946Z",
     "start_time": "2024-11-20T19:41:10.085591Z"
    }
   },
   "source": [
    "import pandas as pd\n",
    "import pyomo.environ as pyo\n",
    "from omlt import OmltBlock\n",
    "from omlt.neuralnet import ReluBigMFormulation\n",
    "from omlt.io import load_keras_sequential\n",
    "import tensorflow\n",
    "import pandas as pd\n",
    "import pickle"
   ],
   "outputs": [],
   "execution_count": 6
  },
  {
   "metadata": {
    "ExecuteTime": {
     "end_time": "2024-11-20T19:41:10.102709Z",
     "start_time": "2024-11-20T19:41:10.095171Z"
    }
   },
   "cell_type": "code",
   "source": [
    "dict_scalers = pickle.load(open(\"scalers.pkl\", \"rb\"))\n",
    "x_offset = dict_scalers[\"x_offset\"]\n",
    "x_factor = dict_scalers[\"x_factor\"]\n",
    "y_offset = dict_scalers[\"y_offset\"]\n",
    "y_factor = dict_scalers[\"y_factor\"]\n",
    "scaled_lb = dict_scalers[\"scaled_lb\"]\n",
    "scaled_ub = dict_scalers[\"scaled_ub\"]\n",
    "inputs = [\"x\", \"y\"]\n",
    "outputs = [\"f1\", \"f2\"]\n",
    "# 1. Charger le modèle Keras dans un format compatible avec OMLT\n",
    "data = pd.read_parquet(\"../data/data.parquet\")\n",
    "X = data[['x', 'y']]\n",
    "y = data[['f1', 'f2']]\n",
    "x_max = X['x'].max()\n",
    "y_max = X['y'].max()"
   ],
   "id": "2cd3b588292134e9",
   "outputs": [],
   "execution_count": 7
  },
  {
   "metadata": {
    "ExecuteTime": {
     "end_time": "2024-11-20T19:41:10.154468Z",
     "start_time": "2024-11-20T19:41:10.104112Z"
    }
   },
   "cell_type": "code",
   "source": [
    "from omlt.neuralnet import FullSpaceSmoothNNFormulation\n",
    "\n",
    "# Charger le modèle Keras\n",
    "nn = tensorflow.keras.models.load_model(\"plane_nn_sigmoid.keras\", compile=False)\n",
    "net = load_keras_sequential(nn, unscaled_input_bounds={0: (0,5 ), 1: (0,5 )})\n",
    "\n",
    "# 2. Définir le modèle Pyomo pour l'optimisation\n",
    "pyomo_model = pyo.ConcreteModel()\n",
    "\n",
    "# Ajouter un bloc OMLT pour intégrer le réseau de neurones\n",
    "pyomo_model.neural_network = OmltBlock()\n",
    "\n",
    "# Transformer notre réseau de neurones en formulation Omlt pour l'utiliser comme expression Pyomo\n",
    "formulation = FullSpaceSmoothNNFormulation(net)\n",
    "pyomo_model.neural_network.build_formulation(formulation)"
   ],
   "id": "80b8081077534f9b",
   "outputs": [],
   "execution_count": 8
  },
  {
   "metadata": {
    "ExecuteTime": {
     "end_time": "2024-11-20T19:41:10.157545Z",
     "start_time": "2024-11-20T19:41:10.155599Z"
    }
   },
   "cell_type": "code",
   "source": [
    "\n",
    "# Première sortie du réseau de neurones : la traînée\n",
    "f1 = pyomo_model.neural_network.outputs[0]\n",
    "# Deuxième sortie du réseau de neurones : la portance\n",
    "f2 = pyomo_model.neural_network.outputs[1]\n",
    "\n",
    "# 3. Formuler l'objectif de maximisation de f1 - f2\n",
    "pyomo_model.objective = pyo.Objective(expr=f2 - f1, sense=pyo.maximize)"
   ],
   "id": "edb58ad8492c09a2",
   "outputs": [],
   "execution_count": 9
  },
  {
   "metadata": {
    "ExecuteTime": {
     "end_time": "2024-11-20T19:41:10.162060Z",
     "start_time": "2024-11-20T19:41:10.158046Z"
    }
   },
   "cell_type": "code",
   "source": [
    "\n",
    "# 4. Ajouter des contraintes sur les valeurs de x et y\n",
    "pyomo_model.con_x = pyo.Constraint(expr=pyomo_model.neural_network.inputs[0] >= 0)\n",
    "pyomo_model.con_y = pyo.Constraint(expr=pyomo_model.neural_network.inputs[1] >= 0)"
   ],
   "id": "5a1fad0411ba87eb",
   "outputs": [],
   "execution_count": 10
  },
  {
   "metadata": {
    "ExecuteTime": {
     "end_time": "2024-11-20T19:41:11.059331Z",
     "start_time": "2024-11-20T19:41:10.163264Z"
    }
   },
   "cell_type": "code",
   "source": [
    "\n",
    "\n",
    "solver = pyo.SolverFactory(\"ipopt\")\n",
    "status = solver.solve(pyomo_model, tee=False)"
   ],
   "id": "408321fdd7d63922",
   "outputs": [],
   "execution_count": null
  },
  {
   "metadata": {
    "ExecuteTime": {
     "end_time": "2024-11-20T19:47:07.447028Z",
     "start_time": "2024-11-20T19:47:07.442668Z"
    }
   },
   "cell_type": "code",
   "source": [
    "# 5. Afficher les résultats optimaux\n",
    "optimal_x = pyo.value(pyomo_model.neural_network.inputs[0])\n",
    "optimal_y = pyo.value(pyomo_model.neural_network.inputs[1])\n",
    "optimal_f1 = pyo.value(f1)\n",
    "optimal_f2 = pyo.value(f2)\n",
    "optimal_value = optimal_f2 - optimal_f1\n",
    "\n",
    "print(f'Valeurs optimales : x = {optimal_x}, y = {optimal_y}')\n",
    "print(f'f1 = {optimal_f1}, f2 = {optimal_f2}')\n",
    "print(f'Valeur de f1 - f2 maximale : {optimal_value}')"
   ],
   "id": "initial_id",
   "outputs": [
    {
     "name": "stdout",
     "output_type": "stream",
     "text": [
      "Valeurs optimales : x = 2.6682962680897364, y = 3.459258743014946\n",
      "f1 = 0.624449062400395, f2 = 1.4618825961667332\n",
      "Valeur de f1 - f2 maximale : 0.8374335337663382\n"
     ]
    }
   ],
   "execution_count": 12
  },
  {
   "metadata": {},
   "cell_type": "code",
   "outputs": [],
   "execution_count": null,
   "source": "",
   "id": "3d5bc9c7b03507f3"
  }
 ],
 "metadata": {
  "kernelspec": {
   "display_name": "Python 3",
   "language": "python",
   "name": "python3"
  },
  "language_info": {
   "codemirror_mode": {
    "name": "ipython",
    "version": 2
   },
   "file_extension": ".py",
   "mimetype": "text/x-python",
   "name": "python",
   "nbconvert_exporter": "python",
   "pygments_lexer": "ipython2",
   "version": "2.7.6"
  }
 },
 "nbformat": 4,
 "nbformat_minor": 5
}
