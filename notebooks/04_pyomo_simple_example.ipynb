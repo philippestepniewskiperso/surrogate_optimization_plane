{
 "cells": [
  {
   "metadata": {
    "ExecuteTime": {
     "end_time": "2024-11-20T18:58:40.110185Z",
     "start_time": "2024-11-20T18:58:39.984501Z"
    }
   },
   "cell_type": "code",
   "source": [
    "import pyomo.environ as pyo\n",
    "\n",
    "# Modèle Pyomo\n",
    "model = pyo.ConcreteModel()\n",
    "\n",
    "# Variables\n",
    "model.x1 = pyo.Var(domain=pyo.NonNegativeIntegers)  # Quantité de P1 \n",
    "model.x2 = pyo.Var(domain=pyo.NonNegativeIntegers)  # Quantité de P2\n",
    "\n",
    "# Paramètres\n",
    "profit_P1 = 40\n",
    "profit_P2 = 30\n",
    "work_limit = 100\n",
    "material_limit = 120\n",
    "\n",
    "# Fonction objectif : Maximiser le profit\n",
    "# Expr contient la formalisation de la fonction objectif. p1 x x1 + p2 x x2 \n",
    "model.profit = pyo.Objective(expr=profit_P1 * model.x1 + profit_P2 * model.x2, sense=pyo.maximize)\n",
    "\n",
    "# Contraintes\n",
    "# Limite de temps de travail total disponible\n",
    "model.work_constraint = pyo.Constraint(expr=2 * model.x1 + 4 * model.x2 <= work_limit)\n",
    "# Limite de matériau disponible\n",
    "model.material_constraint = pyo.Constraint(expr=3 * model.x1 + 2 * model.x2 <= material_limit)\n",
    "\n",
    "# Résolution\n",
    "# Ici, on précise le solver que l'on souhaite utiliser\n",
    "solver = pyo.SolverFactory('cbc')  # Vous pouvez utiliser 'cbc', 'gurobi', etc.\n",
    "result = solver.solve(model)\n",
    "\n",
    "# On affiche les résultats\n",
    "print(\"Status:\", result.solver.termination_condition)\n",
    "print(\"Quantité optimale de P1:\", model.x1())\n",
    "print(\"Quantité optimale de P2:\", model.x2())\n",
    "print(\"Profit maximal:\", model.profit())\n"
   ],
   "id": "e9b6873ade57847d",
   "outputs": [
    {
     "name": "stdout",
     "output_type": "stream",
     "text": [
      "Status: optimal\n",
      "Quantité optimale de P1: 36.0\n",
      "Quantité optimale de P2: 6.0\n",
      "Profit maximal: 1620.0\n"
     ]
    }
   ],
   "execution_count": 7
  },
  {
   "metadata": {},
   "cell_type": "code",
   "outputs": [],
   "execution_count": null,
   "source": "",
   "id": "dc0965ae4a89babb"
  }
 ],
 "metadata": {
  "kernelspec": {
   "display_name": "Python 3",
   "language": "python",
   "name": "python3"
  },
  "language_info": {
   "codemirror_mode": {
    "name": "ipython",
    "version": 2
   },
   "file_extension": ".py",
   "mimetype": "text/x-python",
   "name": "python",
   "nbconvert_exporter": "python",
   "pygments_lexer": "ipython2",
   "version": "2.7.6"
  }
 },
 "nbformat": 4,
 "nbformat_minor": 5
}
